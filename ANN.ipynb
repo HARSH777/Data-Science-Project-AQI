{
 "cells": [
  {
   "cell_type": "code",
   "execution_count": 11,
   "metadata": {},
   "outputs": [],
   "source": [
    "from keras.models import Sequential\n",
    "from keras.layers import Dense, Dropout\n",
    "import pandas as pd\n",
    "import numpy as np\n",
    "from sklearn.preprocessing import StandardScaler\n",
    "from sklearn.model_selection import train_test_split, cross_val_score"
   ]
  },
  {
   "cell_type": "code",
   "execution_count": 2,
   "metadata": {},
   "outputs": [],
   "source": [
    "dataset = pd.read_csv('Data/Real-Data/Real_Combine.csv')\n",
    "dataset = dataset.dropna()"
   ]
  },
  {
   "cell_type": "code",
   "execution_count": 5,
   "metadata": {},
   "outputs": [
    {
     "data": {
      "text/plain": [
       "array([[ 0.87842582,  0.89286892,  0.5167615 , ...,  0.58859564,\n",
       "         0.81900613,  1.07572321],\n",
       "       [-1.99834093, -2.35160084, -1.78605465, ..., -1.07714171,\n",
       "         0.07564533, -0.50767101],\n",
       "       [-1.56205403, -1.52573581, -1.79936573, ..., -0.30833986,\n",
       "         0.42077713,  0.80469177],\n",
       "       ...,\n",
       "       [ 0.61938048,  0.55367435,  1.04920454, ...,  0.71672928,\n",
       "         0.47387433, -0.25090438],\n",
       "       [ 0.31943323,  0.11124666,  0.78298302, ..., -0.05207258,\n",
       "        -0.21638928,  0.80469177],\n",
       "       [ 0.55121065,  0.15548943,  0.71642764, ...,  0.58859564,\n",
       "         1.69510994,  0.80469177]])"
      ]
     },
     "execution_count": 5,
     "metadata": {},
     "output_type": "execute_result"
    }
   ],
   "source": [
    "X = dataset.iloc[:,:-1]\n",
    "y = dataset.iloc[:,-1]\n",
    "X_train, X_test, y_train,y_test = train_test_split(X,y, test_size = 0.2, random_state = 0)\n",
    "sc = StandardScaler()\n",
    "sc.fit_transform(X_train)\n",
    "sc.fit_transform(X_test)"
   ]
  },
  {
   "cell_type": "code",
   "execution_count": 6,
   "metadata": {},
   "outputs": [
    {
     "name": "stdout",
     "output_type": "stream",
     "text": [
      "WARNING:tensorflow:From /home/harsh/anaconda3/lib/python3.7/site-packages/keras/backend/tensorflow_backend.py:74: The name tf.get_default_graph is deprecated. Please use tf.compat.v1.get_default_graph instead.\n",
      "\n"
     ]
    }
   ],
   "source": [
    "model = Sequential()\n",
    "Dense()"
   ]
  },
  {
   "cell_type": "code",
   "execution_count": 7,
   "metadata": {},
   "outputs": [
    {
     "name": "stdout",
     "output_type": "stream",
     "text": [
      "WARNING:tensorflow:From /home/harsh/anaconda3/lib/python3.7/site-packages/keras/backend/tensorflow_backend.py:517: The name tf.placeholder is deprecated. Please use tf.compat.v1.placeholder instead.\n",
      "\n",
      "WARNING:tensorflow:From /home/harsh/anaconda3/lib/python3.7/site-packages/keras/backend/tensorflow_backend.py:4138: The name tf.random_uniform is deprecated. Please use tf.random.uniform instead.\n",
      "\n"
     ]
    }
   ],
   "source": [
    "model.add(Dense(units = 5, activation = 'relu', kernel_initializer = 'he_uniform',input_dim =X.shape[1] ))\n",
    "model.add(Dense(units = 3, activation = 'relu', kernel_initializer = 'he_uniform' ))\n",
    "model.add(Dense(units = 1, activation = 'linear', kernel_initializer = 'uniform' ))"
   ]
  },
  {
   "cell_type": "code",
   "execution_count": 8,
   "metadata": {},
   "outputs": [
    {
     "name": "stdout",
     "output_type": "stream",
     "text": [
      "WARNING:tensorflow:From /home/harsh/anaconda3/lib/python3.7/site-packages/keras/optimizers.py:790: The name tf.train.Optimizer is deprecated. Please use tf.compat.v1.train.Optimizer instead.\n",
      "\n",
      "_________________________________________________________________\n",
      "Layer (type)                 Output Shape              Param #   \n",
      "=================================================================\n",
      "dense_1 (Dense)              (None, 5)                 45        \n",
      "_________________________________________________________________\n",
      "dense_2 (Dense)              (None, 3)                 18        \n",
      "_________________________________________________________________\n",
      "dense_3 (Dense)              (None, 1)                 4         \n",
      "=================================================================\n",
      "Total params: 67\n",
      "Trainable params: 67\n",
      "Non-trainable params: 0\n",
      "_________________________________________________________________\n"
     ]
    }
   ],
   "source": [
    "model.compile(loss='mean_absolute_error', optimizer='adam', metrics=['mean_absolute_error'])\n",
    "model.summary()"
   ]
  },
  {
   "cell_type": "code",
   "execution_count": 10,
   "metadata": {},
   "outputs": [
    {
     "name": "stdout",
     "output_type": "stream",
     "text": [
      "WARNING:tensorflow:From /home/harsh/anaconda3/lib/python3.7/site-packages/keras/backend/tensorflow_backend.py:986: The name tf.assign_add is deprecated. Please use tf.compat.v1.assign_add instead.\n",
      "\n",
      "WARNING:tensorflow:From /home/harsh/anaconda3/lib/python3.7/site-packages/keras/backend/tensorflow_backend.py:973: The name tf.assign is deprecated. Please use tf.compat.v1.assign instead.\n",
      "\n",
      "Train on 698 samples, validate on 175 samples\n",
      "Epoch 1/100\n",
      "698/698 [==============================] - 2s 3ms/step - loss: 111.8337 - mean_absolute_error: 111.8337 - val_loss: 107.6875 - val_mean_absolute_error: 107.6875\n",
      "Epoch 2/100\n",
      "698/698 [==============================] - 0s 27us/step - loss: 111.5838 - mean_absolute_error: 111.5838 - val_loss: 107.5046 - val_mean_absolute_error: 107.5046\n",
      "Epoch 3/100\n",
      "698/698 [==============================] - 0s 32us/step - loss: 111.4561 - mean_absolute_error: 111.4561 - val_loss: 107.4312 - val_mean_absolute_error: 107.4312\n",
      "Epoch 4/100\n",
      "698/698 [==============================] - 0s 39us/step - loss: 111.4128 - mean_absolute_error: 111.4128 - val_loss: 107.4104 - val_mean_absolute_error: 107.4104\n",
      "Epoch 5/100\n",
      "698/698 [==============================] - 0s 27us/step - loss: 111.3968 - mean_absolute_error: 111.3968 - val_loss: 107.3977 - val_mean_absolute_error: 107.3977\n",
      "Epoch 6/100\n",
      "698/698 [==============================] - 0s 35us/step - loss: 111.3830 - mean_absolute_error: 111.3830 - val_loss: 107.3831 - val_mean_absolute_error: 107.3831\n",
      "Epoch 7/100\n",
      "698/698 [==============================] - 0s 40us/step - loss: 111.3651 - mean_absolute_error: 111.3651 - val_loss: 107.3579 - val_mean_absolute_error: 107.3579\n",
      "Epoch 8/100\n",
      "698/698 [==============================] - 0s 37us/step - loss: 111.3283 - mean_absolute_error: 111.3283 - val_loss: 107.2976 - val_mean_absolute_error: 107.2976\n",
      "Epoch 9/100\n",
      "698/698 [==============================] - 0s 35us/step - loss: 111.2309 - mean_absolute_error: 111.2309 - val_loss: 107.1432 - val_mean_absolute_error: 107.1432\n",
      "Epoch 10/100\n",
      "698/698 [==============================] - 0s 26us/step - loss: 110.9848 - mean_absolute_error: 110.9848 - val_loss: 106.7660 - val_mean_absolute_error: 106.7660\n",
      "Epoch 11/100\n",
      "698/698 [==============================] - 0s 34us/step - loss: 110.4374 - mean_absolute_error: 110.4374 - val_loss: 106.0053 - val_mean_absolute_error: 106.0053\n",
      "Epoch 12/100\n",
      "698/698 [==============================] - 0s 33us/step - loss: 109.4493 - mean_absolute_error: 109.4493 - val_loss: 104.7603 - val_mean_absolute_error: 104.7603\n",
      "Epoch 13/100\n",
      "698/698 [==============================] - 0s 34us/step - loss: 107.8596 - mean_absolute_error: 107.8596 - val_loss: 102.9429 - val_mean_absolute_error: 102.9429\n",
      "Epoch 14/100\n",
      "698/698 [==============================] - 0s 33us/step - loss: 105.6160 - mean_absolute_error: 105.6160 - val_loss: 100.4688 - val_mean_absolute_error: 100.4688\n",
      "Epoch 15/100\n",
      "698/698 [==============================] - 0s 31us/step - loss: 102.6784 - mean_absolute_error: 102.6784 - val_loss: 97.2995 - val_mean_absolute_error: 97.2995\n",
      "Epoch 16/100\n",
      "698/698 [==============================] - 0s 33us/step - loss: 99.0176 - mean_absolute_error: 99.0176 - val_loss: 93.4262 - val_mean_absolute_error: 93.4262\n",
      "Epoch 17/100\n",
      "698/698 [==============================] - 0s 40us/step - loss: 94.6576 - mean_absolute_error: 94.6576 - val_loss: 88.9270 - val_mean_absolute_error: 88.9270\n",
      "Epoch 18/100\n",
      "698/698 [==============================] - 0s 31us/step - loss: 89.8419 - mean_absolute_error: 89.8419 - val_loss: 83.9883 - val_mean_absolute_error: 83.9883\n",
      "Epoch 19/100\n",
      "698/698 [==============================] - 0s 30us/step - loss: 84.8681 - mean_absolute_error: 84.8681 - val_loss: 79.4521 - val_mean_absolute_error: 79.4521\n",
      "Epoch 20/100\n",
      "698/698 [==============================] - 0s 37us/step - loss: 80.1982 - mean_absolute_error: 80.1982 - val_loss: 75.5965 - val_mean_absolute_error: 75.5965\n",
      "Epoch 21/100\n",
      "698/698 [==============================] - 0s 46us/step - loss: 76.2883 - mean_absolute_error: 76.2883 - val_loss: 72.4369 - val_mean_absolute_error: 72.4369\n",
      "Epoch 22/100\n",
      "698/698 [==============================] - 0s 41us/step - loss: 73.2946 - mean_absolute_error: 73.2946 - val_loss: 70.0450 - val_mean_absolute_error: 70.0450\n",
      "Epoch 23/100\n",
      "698/698 [==============================] - 0s 29us/step - loss: 71.3415 - mean_absolute_error: 71.3415 - val_loss: 68.3537 - val_mean_absolute_error: 68.3537\n",
      "Epoch 24/100\n",
      "698/698 [==============================] - 0s 33us/step - loss: 69.7492 - mean_absolute_error: 69.7492 - val_loss: 67.3842 - val_mean_absolute_error: 67.3842\n",
      "Epoch 25/100\n",
      "698/698 [==============================] - 0s 34us/step - loss: 68.9103 - mean_absolute_error: 68.9103 - val_loss: 66.6864 - val_mean_absolute_error: 66.6864\n",
      "Epoch 26/100\n",
      "698/698 [==============================] - 0s 43us/step - loss: 68.5126 - mean_absolute_error: 68.5126 - val_loss: 66.2419 - val_mean_absolute_error: 66.2419\n",
      "Epoch 27/100\n",
      "698/698 [==============================] - 0s 29us/step - loss: 68.2400 - mean_absolute_error: 68.2400 - val_loss: 65.9954 - val_mean_absolute_error: 65.9954\n",
      "Epoch 28/100\n",
      "698/698 [==============================] - 0s 35us/step - loss: 68.1585 - mean_absolute_error: 68.1585 - val_loss: 65.8334 - val_mean_absolute_error: 65.8334\n",
      "Epoch 29/100\n",
      "698/698 [==============================] - 0s 32us/step - loss: 68.0554 - mean_absolute_error: 68.0554 - val_loss: 65.7566 - val_mean_absolute_error: 65.7566\n",
      "Epoch 30/100\n",
      "698/698 [==============================] - 0s 56us/step - loss: 68.0203 - mean_absolute_error: 68.0203 - val_loss: 65.7178 - val_mean_absolute_error: 65.7178\n",
      "Epoch 31/100\n",
      "698/698 [==============================] - 0s 26us/step - loss: 68.0015 - mean_absolute_error: 68.0015 - val_loss: 65.6833 - val_mean_absolute_error: 65.6833\n",
      "Epoch 32/100\n",
      "698/698 [==============================] - 0s 40us/step - loss: 67.9703 - mean_absolute_error: 67.9703 - val_loss: 65.6607 - val_mean_absolute_error: 65.6607\n",
      "Epoch 33/100\n",
      "698/698 [==============================] - 0s 33us/step - loss: 67.9403 - mean_absolute_error: 67.9403 - val_loss: 65.6361 - val_mean_absolute_error: 65.6361\n",
      "Epoch 34/100\n",
      "698/698 [==============================] - 0s 34us/step - loss: 67.9200 - mean_absolute_error: 67.9200 - val_loss: 65.6164 - val_mean_absolute_error: 65.6164\n",
      "Epoch 35/100\n",
      "698/698 [==============================] - 0s 27us/step - loss: 67.8832 - mean_absolute_error: 67.8832 - val_loss: 65.5879 - val_mean_absolute_error: 65.5879\n",
      "Epoch 36/100\n",
      "698/698 [==============================] - 0s 29us/step - loss: 67.8635 - mean_absolute_error: 67.8635 - val_loss: 65.5637 - val_mean_absolute_error: 65.5637\n",
      "Epoch 37/100\n",
      "698/698 [==============================] - 0s 34us/step - loss: 67.8286 - mean_absolute_error: 67.8286 - val_loss: 65.5343 - val_mean_absolute_error: 65.5343\n",
      "Epoch 38/100\n",
      "698/698 [==============================] - 0s 31us/step - loss: 67.8026 - mean_absolute_error: 67.8026 - val_loss: 65.5026 - val_mean_absolute_error: 65.5026\n",
      "Epoch 39/100\n",
      "698/698 [==============================] - 0s 31us/step - loss: 67.7733 - mean_absolute_error: 67.7733 - val_loss: 65.4742 - val_mean_absolute_error: 65.4742\n",
      "Epoch 40/100\n",
      "698/698 [==============================] - 0s 38us/step - loss: 67.7524 - mean_absolute_error: 67.7524 - val_loss: 65.4548 - val_mean_absolute_error: 65.4548\n",
      "Epoch 41/100\n",
      "698/698 [==============================] - 0s 39us/step - loss: 67.7245 - mean_absolute_error: 67.7245 - val_loss: 65.4314 - val_mean_absolute_error: 65.4314\n",
      "Epoch 42/100\n",
      "698/698 [==============================] - 0s 30us/step - loss: 67.6898 - mean_absolute_error: 67.6898 - val_loss: 65.3992 - val_mean_absolute_error: 65.3992\n",
      "Epoch 43/100\n",
      "698/698 [==============================] - 0s 35us/step - loss: 67.6652 - mean_absolute_error: 67.6652 - val_loss: 65.3705 - val_mean_absolute_error: 65.3705\n",
      "Epoch 44/100\n",
      "698/698 [==============================] - 0s 44us/step - loss: 67.6392 - mean_absolute_error: 67.6392 - val_loss: 65.3437 - val_mean_absolute_error: 65.3437\n",
      "Epoch 45/100\n",
      "698/698 [==============================] - 0s 49us/step - loss: 67.6198 - mean_absolute_error: 67.6198 - val_loss: 65.3204 - val_mean_absolute_error: 65.3204\n",
      "Epoch 46/100\n"
     ]
    },
    {
     "name": "stdout",
     "output_type": "stream",
     "text": [
      "698/698 [==============================] - 0s 33us/step - loss: 67.5853 - mean_absolute_error: 67.5853 - val_loss: 65.2933 - val_mean_absolute_error: 65.2933\n",
      "Epoch 47/100\n",
      "698/698 [==============================] - 0s 32us/step - loss: 67.5592 - mean_absolute_error: 67.5592 - val_loss: 65.2710 - val_mean_absolute_error: 65.2710\n",
      "Epoch 48/100\n",
      "698/698 [==============================] - 0s 32us/step - loss: 67.5280 - mean_absolute_error: 67.5280 - val_loss: 65.2421 - val_mean_absolute_error: 65.2421\n",
      "Epoch 49/100\n",
      "698/698 [==============================] - 0s 27us/step - loss: 67.4980 - mean_absolute_error: 67.4980 - val_loss: 65.2172 - val_mean_absolute_error: 65.2172\n",
      "Epoch 50/100\n",
      "698/698 [==============================] - 0s 25us/step - loss: 67.4769 - mean_absolute_error: 67.4769 - val_loss: 65.1926 - val_mean_absolute_error: 65.1926\n",
      "Epoch 51/100\n",
      "698/698 [==============================] - 0s 27us/step - loss: 67.4612 - mean_absolute_error: 67.4612 - val_loss: 65.1616 - val_mean_absolute_error: 65.1616\n",
      "Epoch 52/100\n",
      "698/698 [==============================] - 0s 29us/step - loss: 67.4186 - mean_absolute_error: 67.4186 - val_loss: 65.1353 - val_mean_absolute_error: 65.1353\n",
      "Epoch 53/100\n",
      "698/698 [==============================] - 0s 29us/step - loss: 67.3888 - mean_absolute_error: 67.3888 - val_loss: 65.1116 - val_mean_absolute_error: 65.1116\n",
      "Epoch 54/100\n",
      "698/698 [==============================] - 0s 24us/step - loss: 67.3608 - mean_absolute_error: 67.3608 - val_loss: 65.0865 - val_mean_absolute_error: 65.0865\n",
      "Epoch 55/100\n",
      "698/698 [==============================] - 0s 27us/step - loss: 67.3357 - mean_absolute_error: 67.3357 - val_loss: 65.0600 - val_mean_absolute_error: 65.0600\n",
      "Epoch 56/100\n",
      "698/698 [==============================] - 0s 21us/step - loss: 67.3108 - mean_absolute_error: 67.3108 - val_loss: 65.0304 - val_mean_absolute_error: 65.0304\n",
      "Epoch 57/100\n",
      "698/698 [==============================] - 0s 26us/step - loss: 67.2785 - mean_absolute_error: 67.2785 - val_loss: 65.0038 - val_mean_absolute_error: 65.0038\n",
      "Epoch 58/100\n",
      "698/698 [==============================] - 0s 29us/step - loss: 67.2501 - mean_absolute_error: 67.2501 - val_loss: 64.9772 - val_mean_absolute_error: 64.9772\n",
      "Epoch 59/100\n",
      "698/698 [==============================] - 0s 27us/step - loss: 67.2205 - mean_absolute_error: 67.2205 - val_loss: 64.9515 - val_mean_absolute_error: 64.9515\n",
      "Epoch 60/100\n",
      "698/698 [==============================] - 0s 27us/step - loss: 67.1934 - mean_absolute_error: 67.1934 - val_loss: 64.9258 - val_mean_absolute_error: 64.9258\n",
      "Epoch 61/100\n",
      "698/698 [==============================] - 0s 27us/step - loss: 67.1699 - mean_absolute_error: 67.1699 - val_loss: 64.8977 - val_mean_absolute_error: 64.8977\n",
      "Epoch 62/100\n",
      "698/698 [==============================] - 0s 26us/step - loss: 67.1373 - mean_absolute_error: 67.1373 - val_loss: 64.8718 - val_mean_absolute_error: 64.8718\n",
      "Epoch 63/100\n",
      "698/698 [==============================] - 0s 24us/step - loss: 67.1106 - mean_absolute_error: 67.1106 - val_loss: 64.8475 - val_mean_absolute_error: 64.8475\n",
      "Epoch 64/100\n",
      "698/698 [==============================] - 0s 28us/step - loss: 67.0882 - mean_absolute_error: 67.0882 - val_loss: 64.8169 - val_mean_absolute_error: 64.8169\n",
      "Epoch 65/100\n",
      "698/698 [==============================] - 0s 28us/step - loss: 67.0532 - mean_absolute_error: 67.0532 - val_loss: 64.7930 - val_mean_absolute_error: 64.7930\n",
      "Epoch 66/100\n",
      "698/698 [==============================] - 0s 30us/step - loss: 67.0295 - mean_absolute_error: 67.0295 - val_loss: 64.7662 - val_mean_absolute_error: 64.7662\n",
      "Epoch 67/100\n",
      "698/698 [==============================] - 0s 31us/step - loss: 66.9967 - mean_absolute_error: 66.9967 - val_loss: 64.7378 - val_mean_absolute_error: 64.7378\n",
      "Epoch 68/100\n",
      "698/698 [==============================] - 0s 32us/step - loss: 66.9761 - mean_absolute_error: 66.9761 - val_loss: 64.7058 - val_mean_absolute_error: 64.7058\n",
      "Epoch 69/100\n",
      "698/698 [==============================] - 0s 31us/step - loss: 66.9381 - mean_absolute_error: 66.9381 - val_loss: 64.6788 - val_mean_absolute_error: 64.6788\n",
      "Epoch 70/100\n",
      "698/698 [==============================] - 0s 33us/step - loss: 66.9113 - mean_absolute_error: 66.9113 - val_loss: 64.6544 - val_mean_absolute_error: 64.6544\n",
      "Epoch 71/100\n",
      "698/698 [==============================] - 0s 27us/step - loss: 66.8816 - mean_absolute_error: 66.8816 - val_loss: 64.6265 - val_mean_absolute_error: 64.6265\n",
      "Epoch 72/100\n",
      "698/698 [==============================] - 0s 29us/step - loss: 66.8570 - mean_absolute_error: 66.8570 - val_loss: 64.5990 - val_mean_absolute_error: 64.5990\n",
      "Epoch 73/100\n",
      "698/698 [==============================] - 0s 28us/step - loss: 66.8248 - mean_absolute_error: 66.8248 - val_loss: 64.5693 - val_mean_absolute_error: 64.5693\n",
      "Epoch 74/100\n",
      "698/698 [==============================] - 0s 28us/step - loss: 66.8111 - mean_absolute_error: 66.8111 - val_loss: 64.5352 - val_mean_absolute_error: 64.5352\n",
      "Epoch 75/100\n",
      "698/698 [==============================] - 0s 28us/step - loss: 66.7706 - mean_absolute_error: 66.7706 - val_loss: 64.5153 - val_mean_absolute_error: 64.5153\n",
      "Epoch 76/100\n",
      "698/698 [==============================] - 0s 29us/step - loss: 66.7370 - mean_absolute_error: 66.7370 - val_loss: 64.4881 - val_mean_absolute_error: 64.4881\n",
      "Epoch 77/100\n",
      "698/698 [==============================] - 0s 30us/step - loss: 66.7104 - mean_absolute_error: 66.7104 - val_loss: 64.4637 - val_mean_absolute_error: 64.4637\n",
      "Epoch 78/100\n",
      "698/698 [==============================] - 0s 33us/step - loss: 66.6779 - mean_absolute_error: 66.6779 - val_loss: 64.4339 - val_mean_absolute_error: 64.4339\n",
      "Epoch 79/100\n",
      "698/698 [==============================] - 0s 40us/step - loss: 66.6473 - mean_absolute_error: 66.6473 - val_loss: 64.4056 - val_mean_absolute_error: 64.4056\n",
      "Epoch 80/100\n",
      "698/698 [==============================] - 0s 34us/step - loss: 66.6398 - mean_absolute_error: 66.6398 - val_loss: 64.3675 - val_mean_absolute_error: 64.3675\n",
      "Epoch 81/100\n",
      "698/698 [==============================] - 0s 34us/step - loss: 66.5888 - mean_absolute_error: 66.5888 - val_loss: 64.3479 - val_mean_absolute_error: 64.3479\n",
      "Epoch 82/100\n",
      "698/698 [==============================] - 0s 36us/step - loss: 66.5591 - mean_absolute_error: 66.5591 - val_loss: 64.3230 - val_mean_absolute_error: 64.3230\n",
      "Epoch 83/100\n",
      "698/698 [==============================] - 0s 30us/step - loss: 66.5365 - mean_absolute_error: 66.5365 - val_loss: 64.3004 - val_mean_absolute_error: 64.3004\n",
      "Epoch 84/100\n",
      "698/698 [==============================] - 0s 36us/step - loss: 66.5064 - mean_absolute_error: 66.5064 - val_loss: 64.2728 - val_mean_absolute_error: 64.2728\n",
      "Epoch 85/100\n",
      "698/698 [==============================] - 0s 32us/step - loss: 66.4716 - mean_absolute_error: 66.4716 - val_loss: 64.2414 - val_mean_absolute_error: 64.2414\n",
      "Epoch 86/100\n",
      "698/698 [==============================] - 0s 28us/step - loss: 66.4363 - mean_absolute_error: 66.4363 - val_loss: 64.2041 - val_mean_absolute_error: 64.2041\n",
      "Epoch 87/100\n",
      "698/698 [==============================] - 0s 31us/step - loss: 66.4239 - mean_absolute_error: 66.4239 - val_loss: 64.1721 - val_mean_absolute_error: 64.1721\n",
      "Epoch 88/100\n",
      "698/698 [==============================] - 0s 31us/step - loss: 66.3810 - mean_absolute_error: 66.3810 - val_loss: 64.1451 - val_mean_absolute_error: 64.1451\n",
      "Epoch 89/100\n",
      "698/698 [==============================] - 0s 26us/step - loss: 66.3558 - mean_absolute_error: 66.3558 - val_loss: 64.1181 - val_mean_absolute_error: 64.1181\n",
      "Epoch 90/100\n",
      "698/698 [==============================] - 0s 27us/step - loss: 66.3169 - mean_absolute_error: 66.3169 - val_loss: 64.0896 - val_mean_absolute_error: 64.0896\n",
      "Epoch 91/100\n",
      "698/698 [==============================] - 0s 22us/step - loss: 66.2857 - mean_absolute_error: 66.2857 - val_loss: 64.0610 - val_mean_absolute_error: 64.0610\n",
      "Epoch 92/100\n",
      "698/698 [==============================] - 0s 27us/step - loss: 66.2533 - mean_absolute_error: 66.2533 - val_loss: 64.0301 - val_mean_absolute_error: 64.0301\n",
      "Epoch 93/100\n",
      "698/698 [==============================] - 0s 29us/step - loss: 66.2378 - mean_absolute_error: 66.2378 - val_loss: 64.0027 - val_mean_absolute_error: 64.0027\n"
     ]
    },
    {
     "name": "stdout",
     "output_type": "stream",
     "text": [
      "Epoch 94/100\n",
      "698/698 [==============================] - 0s 30us/step - loss: 66.1921 - mean_absolute_error: 66.1921 - val_loss: 63.9716 - val_mean_absolute_error: 63.9716\n",
      "Epoch 95/100\n",
      "698/698 [==============================] - 0s 31us/step - loss: 66.1629 - mean_absolute_error: 66.1629 - val_loss: 63.9411 - val_mean_absolute_error: 63.9411\n",
      "Epoch 96/100\n",
      "698/698 [==============================] - 0s 31us/step - loss: 66.1239 - mean_absolute_error: 66.1239 - val_loss: 63.9132 - val_mean_absolute_error: 63.9132\n",
      "Epoch 97/100\n",
      "698/698 [==============================] - 0s 27us/step - loss: 66.0940 - mean_absolute_error: 66.0940 - val_loss: 63.8853 - val_mean_absolute_error: 63.8853\n",
      "Epoch 98/100\n",
      "698/698 [==============================] - 0s 27us/step - loss: 66.0617 - mean_absolute_error: 66.0617 - val_loss: 63.8570 - val_mean_absolute_error: 63.8570\n",
      "Epoch 99/100\n",
      "698/698 [==============================] - 0s 25us/step - loss: 66.0288 - mean_absolute_error: 66.0288 - val_loss: 63.8286 - val_mean_absolute_error: 63.8286\n",
      "Epoch 100/100\n",
      "698/698 [==============================] - 0s 27us/step - loss: 66.0031 - mean_absolute_error: 66.0031 - val_loss: 63.7943 - val_mean_absolute_error: 63.7943\n"
     ]
    },
    {
     "data": {
      "text/plain": [
       "<keras.callbacks.History at 0x7f945a305290>"
      ]
     },
     "execution_count": 10,
     "metadata": {},
     "output_type": "execute_result"
    }
   ],
   "source": [
    "model.fit(X_train, y_train, validation_split=0.2, batch_size=100, epochs = 100)"
   ]
  },
  {
   "cell_type": "raw",
   "metadata": {},
   "source": [
    "import pickle"
   ]
  },
  {
   "cell_type": "code",
   "execution_count": null,
   "metadata": {},
   "outputs": [],
   "source": [
    "import pickle\n",
    "file = open('Data/Real-Date/Data_')"
   ]
  }
 ],
 "metadata": {
  "kernelspec": {
   "display_name": "Python 3",
   "language": "python",
   "name": "python3"
  },
  "language_info": {
   "codemirror_mode": {
    "name": "ipython",
    "version": 3
   },
   "file_extension": ".py",
   "mimetype": "text/x-python",
   "name": "python",
   "nbconvert_exporter": "python",
   "pygments_lexer": "ipython3",
   "version": "3.7.4"
  }
 },
 "nbformat": 4,
 "nbformat_minor": 2
}
